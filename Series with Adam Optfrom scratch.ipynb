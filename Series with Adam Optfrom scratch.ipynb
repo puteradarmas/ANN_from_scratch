{
 "cells": [
  {
   "cell_type": "code",
   "execution_count": 10,
   "metadata": {},
   "outputs": [],
   "source": [
    "##  Import packages and set seed\n",
    "\n",
    "import numpy as np\n",
    "import pandas as pd\n",
    "from numpy.random import seed\n",
    "from numpy.random import randint\n",
    "import matplotlib.pyplot as plt\n",
    "import math\n",
    "from sklearn.preprocessing import RobustScaler\n",
    "from sklearn.metrics import confusion_matrix , classification_report\n",
    "seed(1)"
   ]
  },
  {
   "cell_type": "markdown",
   "metadata": {},
   "source": [
    "### Build our Dataset\n",
    "For the dataset, we will generate it randomly. I include a simple code to make the dataset. Test dataset will be generated after our model is ready."
   ]
  },
  {
   "cell_type": "code",
   "execution_count": 11,
   "metadata": {},
   "outputs": [
    {
     "data": {
      "text/html": [
       "<div>\n",
       "<style scoped>\n",
       "    .dataframe tbody tr th:only-of-type {\n",
       "        vertical-align: middle;\n",
       "    }\n",
       "\n",
       "    .dataframe tbody tr th {\n",
       "        vertical-align: top;\n",
       "    }\n",
       "\n",
       "    .dataframe thead th {\n",
       "        text-align: right;\n",
       "    }\n",
       "</style>\n",
       "<table border=\"1\" class=\"dataframe\">\n",
       "  <thead>\n",
       "    <tr style=\"text-align: right;\">\n",
       "      <th></th>\n",
       "      <th>x</th>\n",
       "      <th>x1</th>\n",
       "      <th>x2</th>\n",
       "      <th>x3</th>\n",
       "      <th>x4</th>\n",
       "      <th>x5</th>\n",
       "      <th>geom</th>\n",
       "      <th>aritmatik</th>\n",
       "      <th>none</th>\n",
       "    </tr>\n",
       "  </thead>\n",
       "  <tbody>\n",
       "  </tbody>\n",
       "</table>\n",
       "</div>"
      ],
      "text/plain": [
       "Empty DataFrame\n",
       "Columns: [x, x1, x2, x3, x4, x5, geom, aritmatik, none]\n",
       "Index: []"
      ]
     },
     "execution_count": 11,
     "metadata": {},
     "output_type": "execute_result"
    }
   ],
   "source": [
    "## Initiate data frame\n",
    "d = {'x': [], 'x1': [],'x2': [], 'x3': [],'x4': [], 'x5': [],'geom':[],'aritmatik':[],'none':[]}\n",
    "df = pd.DataFrame(data=d)\n",
    "df"
   ]
  },
  {
   "cell_type": "code",
   "execution_count": 12,
   "metadata": {},
   "outputs": [],
   "source": [
    "## generate random data\n",
    "for i in range(500):\n",
    "    k = randint(3)\n",
    "    if k == 0:\n",
    "        #generate geom\n",
    "        a = randint(low = -200, high= 200)\n",
    "        r = randint(low= -10,high=10)\n",
    "        data = {'x':a, 'x1': a*r,'x2': a*r**2, 'x3': a*r**3,'x4': a*r**4, 'x5': a*r**5,'geom':1,'aritmatik':0,'none':0}\n",
    "        df = df.append(data,ignore_index=True)\n",
    "        \n",
    "    elif k == 1:\n",
    "        #generate aritmatik\n",
    "        a = randint(low = -200, high= 200)\n",
    "        b = randint(low= -50,high=50)\n",
    "        data = {'x':a, 'x1': a+b,'x2': a+b*2, 'x3': a+b*3,'x4': a+b*4, 'x5': a+b*5,'geom':0,'aritmatik':1,'none':0}\n",
    "        df = df.append(data,ignore_index=True)\n",
    "    \n",
    "    else:\n",
    "        #generate geom\n",
    "        a = randint(low = -1000, high= 1000,size =6)\n",
    "        data = {'x':a[0], 'x1': a[1],'x2': a[2], 'x3': a[3],'x4': a[4], 'x5': a[5],'geom':0,'aritmatik':0,'none':1}\n",
    "        df = df.append(data,ignore_index=True)"
   ]
  },
  {
   "cell_type": "code",
   "execution_count": 13,
   "metadata": {
    "scrolled": true
   },
   "outputs": [
    {
     "name": "stdout",
     "output_type": "stream",
     "text": [
      "<class 'pandas.core.frame.DataFrame'>\n",
      "RangeIndex: 500 entries, 0 to 499\n",
      "Data columns (total 9 columns):\n",
      " #   Column     Non-Null Count  Dtype  \n",
      "---  ------     --------------  -----  \n",
      " 0   x          500 non-null    float64\n",
      " 1   x1         500 non-null    float64\n",
      " 2   x2         500 non-null    float64\n",
      " 3   x3         500 non-null    float64\n",
      " 4   x4         500 non-null    float64\n",
      " 5   x5         500 non-null    float64\n",
      " 6   geom       500 non-null    float64\n",
      " 7   aritmatik  500 non-null    float64\n",
      " 8   none       500 non-null    float64\n",
      "dtypes: float64(9)\n",
      "memory usage: 35.3 KB\n",
      "None\n"
     ]
    },
    {
     "data": {
      "text/plain": [
       "aritmatik    158.0\n",
       "geom         172.0\n",
       "none         170.0\n",
       "dtype: float64"
      ]
     },
     "execution_count": 13,
     "metadata": {},
     "output_type": "execute_result"
    }
   ],
   "source": [
    "## Our Dataset summary\n",
    "\n",
    "print(df.info())\n",
    "df[['aritmatik','geom','none']].sum()"
   ]
  },
  {
   "cell_type": "code",
   "execution_count": 14,
   "metadata": {},
   "outputs": [],
   "source": [
    "## Make it to X_train and y_train\n",
    "\n",
    "X_train = df[['x','x1','x2','x3','x4','x5']].to_numpy()\n",
    "y_train = df[['geom','aritmatik','none']].to_numpy()"
   ]
  },
  {
   "cell_type": "code",
   "execution_count": 15,
   "metadata": {},
   "outputs": [
    {
     "data": {
      "text/html": [
       "<div>\n",
       "<style scoped>\n",
       "    .dataframe tbody tr th:only-of-type {\n",
       "        vertical-align: middle;\n",
       "    }\n",
       "\n",
       "    .dataframe tbody tr th {\n",
       "        vertical-align: top;\n",
       "    }\n",
       "\n",
       "    .dataframe thead th {\n",
       "        text-align: right;\n",
       "    }\n",
       "</style>\n",
       "<table border=\"1\" class=\"dataframe\">\n",
       "  <thead>\n",
       "    <tr style=\"text-align: right;\">\n",
       "      <th></th>\n",
       "      <th>x</th>\n",
       "      <th>x1</th>\n",
       "      <th>x2</th>\n",
       "      <th>x3</th>\n",
       "      <th>x4</th>\n",
       "      <th>x5</th>\n",
       "      <th>geom</th>\n",
       "      <th>aritmatik</th>\n",
       "      <th>none</th>\n",
       "    </tr>\n",
       "  </thead>\n",
       "  <tbody>\n",
       "    <tr>\n",
       "      <th>0</th>\n",
       "      <td>35.0</td>\n",
       "      <td>-3.0</td>\n",
       "      <td>-41.0</td>\n",
       "      <td>-79.0</td>\n",
       "      <td>-117.0</td>\n",
       "      <td>-155.0</td>\n",
       "      <td>0.0</td>\n",
       "      <td>1.0</td>\n",
       "      <td>0.0</td>\n",
       "    </tr>\n",
       "    <tr>\n",
       "      <th>1</th>\n",
       "      <td>55.0</td>\n",
       "      <td>-55.0</td>\n",
       "      <td>55.0</td>\n",
       "      <td>-55.0</td>\n",
       "      <td>55.0</td>\n",
       "      <td>-55.0</td>\n",
       "      <td>1.0</td>\n",
       "      <td>0.0</td>\n",
       "      <td>0.0</td>\n",
       "    </tr>\n",
       "    <tr>\n",
       "      <th>2</th>\n",
       "      <td>135.0</td>\n",
       "      <td>149.0</td>\n",
       "      <td>163.0</td>\n",
       "      <td>177.0</td>\n",
       "      <td>191.0</td>\n",
       "      <td>205.0</td>\n",
       "      <td>0.0</td>\n",
       "      <td>1.0</td>\n",
       "      <td>0.0</td>\n",
       "    </tr>\n",
       "    <tr>\n",
       "      <th>3</th>\n",
       "      <td>-71.0</td>\n",
       "      <td>-142.0</td>\n",
       "      <td>-284.0</td>\n",
       "      <td>-568.0</td>\n",
       "      <td>-1136.0</td>\n",
       "      <td>-2272.0</td>\n",
       "      <td>1.0</td>\n",
       "      <td>0.0</td>\n",
       "      <td>0.0</td>\n",
       "    </tr>\n",
       "    <tr>\n",
       "      <th>4</th>\n",
       "      <td>190.0</td>\n",
       "      <td>165.0</td>\n",
       "      <td>140.0</td>\n",
       "      <td>115.0</td>\n",
       "      <td>90.0</td>\n",
       "      <td>65.0</td>\n",
       "      <td>0.0</td>\n",
       "      <td>1.0</td>\n",
       "      <td>0.0</td>\n",
       "    </tr>\n",
       "    <tr>\n",
       "      <th>...</th>\n",
       "      <td>...</td>\n",
       "      <td>...</td>\n",
       "      <td>...</td>\n",
       "      <td>...</td>\n",
       "      <td>...</td>\n",
       "      <td>...</td>\n",
       "      <td>...</td>\n",
       "      <td>...</td>\n",
       "      <td>...</td>\n",
       "    </tr>\n",
       "    <tr>\n",
       "      <th>495</th>\n",
       "      <td>-11.0</td>\n",
       "      <td>55.0</td>\n",
       "      <td>-275.0</td>\n",
       "      <td>1375.0</td>\n",
       "      <td>-6875.0</td>\n",
       "      <td>34375.0</td>\n",
       "      <td>1.0</td>\n",
       "      <td>0.0</td>\n",
       "      <td>0.0</td>\n",
       "    </tr>\n",
       "    <tr>\n",
       "      <th>496</th>\n",
       "      <td>-310.0</td>\n",
       "      <td>-430.0</td>\n",
       "      <td>651.0</td>\n",
       "      <td>487.0</td>\n",
       "      <td>934.0</td>\n",
       "      <td>896.0</td>\n",
       "      <td>0.0</td>\n",
       "      <td>0.0</td>\n",
       "      <td>1.0</td>\n",
       "    </tr>\n",
       "    <tr>\n",
       "      <th>497</th>\n",
       "      <td>196.0</td>\n",
       "      <td>157.0</td>\n",
       "      <td>118.0</td>\n",
       "      <td>79.0</td>\n",
       "      <td>40.0</td>\n",
       "      <td>1.0</td>\n",
       "      <td>0.0</td>\n",
       "      <td>1.0</td>\n",
       "      <td>0.0</td>\n",
       "    </tr>\n",
       "    <tr>\n",
       "      <th>498</th>\n",
       "      <td>521.0</td>\n",
       "      <td>442.0</td>\n",
       "      <td>798.0</td>\n",
       "      <td>-382.0</td>\n",
       "      <td>733.0</td>\n",
       "      <td>274.0</td>\n",
       "      <td>0.0</td>\n",
       "      <td>0.0</td>\n",
       "      <td>1.0</td>\n",
       "    </tr>\n",
       "    <tr>\n",
       "      <th>499</th>\n",
       "      <td>163.0</td>\n",
       "      <td>157.0</td>\n",
       "      <td>151.0</td>\n",
       "      <td>145.0</td>\n",
       "      <td>139.0</td>\n",
       "      <td>133.0</td>\n",
       "      <td>0.0</td>\n",
       "      <td>1.0</td>\n",
       "      <td>0.0</td>\n",
       "    </tr>\n",
       "  </tbody>\n",
       "</table>\n",
       "<p>500 rows × 9 columns</p>\n",
       "</div>"
      ],
      "text/plain": [
       "         x     x1     x2      x3      x4       x5  geom  aritmatik  none\n",
       "0     35.0   -3.0  -41.0   -79.0  -117.0   -155.0   0.0        1.0   0.0\n",
       "1     55.0  -55.0   55.0   -55.0    55.0    -55.0   1.0        0.0   0.0\n",
       "2    135.0  149.0  163.0   177.0   191.0    205.0   0.0        1.0   0.0\n",
       "3    -71.0 -142.0 -284.0  -568.0 -1136.0  -2272.0   1.0        0.0   0.0\n",
       "4    190.0  165.0  140.0   115.0    90.0     65.0   0.0        1.0   0.0\n",
       "..     ...    ...    ...     ...     ...      ...   ...        ...   ...\n",
       "495  -11.0   55.0 -275.0  1375.0 -6875.0  34375.0   1.0        0.0   0.0\n",
       "496 -310.0 -430.0  651.0   487.0   934.0    896.0   0.0        0.0   1.0\n",
       "497  196.0  157.0  118.0    79.0    40.0      1.0   0.0        1.0   0.0\n",
       "498  521.0  442.0  798.0  -382.0   733.0    274.0   0.0        0.0   1.0\n",
       "499  163.0  157.0  151.0   145.0   139.0    133.0   0.0        1.0   0.0\n",
       "\n",
       "[500 rows x 9 columns]"
      ]
     },
     "execution_count": 15,
     "metadata": {},
     "output_type": "execute_result"
    }
   ],
   "source": [
    "df"
   ]
  },
  {
   "cell_type": "code",
   "execution_count": 16,
   "metadata": {},
   "outputs": [],
   "source": [
    "W1 = np.random.randn(10, X_train.shape[1]) * 0.01 ## (our first weight consist of (# nodes of target later,# nodes input))\n",
    "b1 = np.zeros(shape =(10, 1)) \n",
    "  \n",
    "W2 = np.random.randn(y_train.shape[1], 10) * 0.01 ## (our second weight(# target nodes, # previous layer nodes))\n",
    "b2 = np.zeros(shape =(y_train.shape[1], 1)) "
   ]
  },
  {
   "cell_type": "code",
   "execution_count": 17,
   "metadata": {},
   "outputs": [
    {
     "name": "stdout",
     "output_type": "stream",
     "text": [
      "(10, 6)\n",
      "(10, 1)\n",
      "(3, 10)\n",
      "(3, 1)\n"
     ]
    }
   ],
   "source": [
    "print(W1.shape)\n",
    "print(b1.shape)\n",
    "print(W2.shape)\n",
    "print(b2.shape)"
   ]
  },
  {
   "cell_type": "markdown",
   "metadata": {},
   "source": [
    "### Softmax Activation\n",
    "I use Softmax activation because our model has 3 targets classification task.\n",
    "To keep it simple the sigmoid function is used for the two-class logistic regression, whereas the softmax function is used for the multiclass logistic regression.\n",
    "\n",
    "[Quick look to a math behind softmax](https://www.youtube.com/watch?v=o6HrH2EMD-w) "
   ]
  },
  {
   "cell_type": "code",
   "execution_count": 18,
   "metadata": {},
   "outputs": [],
   "source": [
    "def softmax(x):\n",
    "    z = np.exp(x)\n",
    "    zsum = z.sum(axis=0)\n",
    "    k = np.zeros(shape = z.shape)\n",
    "    for i in range(len(zsum)):\n",
    "        k[:,i] = z[:,i]/zsum[i]\n",
    "    return k"
   ]
  },
  {
   "cell_type": "markdown",
   "metadata": {},
   "source": [
    "#### Forward propagation\n",
    "I use matrix operator to perform our forward and later backward propagation.\n",
    "\n",
    "[Based from this](https://www.geeksforgeeks.org/deep-neural-net-with-forward-and-back-propagation-from-scratch-python/)"
   ]
  },
  {
   "cell_type": "code",
   "execution_count": 19,
   "metadata": {},
   "outputs": [],
   "source": [
    "def forward_prop(X, W1, W2, b1, b2): \n",
    "  \n",
    "    Z1 = np.dot(W1, X.T) + b1 \n",
    "    A1 = np.tanh(Z1) \n",
    "    Z2 = np.dot(W2, A1) + b2 \n",
    "    A2 = softmax(Z2) \n",
    "      \n",
    "    # cache that will be used for back propagation\n",
    "    cache = {\"Z1\": Z1, \n",
    "             \"A1\": A1, \n",
    "             \"Z2\": Z2, \n",
    "             \"A2\": A2} \n",
    "      \n",
    "    return A2, cache "
   ]
  },
  {
   "cell_type": "markdown",
   "metadata": {},
   "source": [
    "#### Loss function\n",
    "For our loss function we use cross entrophy function\n",
    "\n",
    "[for deeper loss function understanding](https://gombru.github.io/2018/05/23/cross_entropy_loss/)"
   ]
  },
  {
   "cell_type": "code",
   "execution_count": 20,
   "metadata": {},
   "outputs": [],
   "source": [
    "# Crossentropy\n",
    "# Here Y is actual output \n",
    "def cost_crossentropy(A2, Y): \n",
    "    ## Implementing cross entrophy function for multiclass problem\n",
    "    cost = -np.mean(Y * np.log(A2.T + 1e-8))\n",
    "      \n",
    "    return cost"
   ]
  },
  {
   "cell_type": "markdown",
   "metadata": {},
   "source": [
    "#### Back propagation\n",
    "For back propagation, normal backpropagation with gradient descent wont work, our model parameter trapped at some local minima.\n",
    "So I apply adam optimizer on backpropagation process\n",
    "\n",
    "[Math Behind Adam Optimizer](https://arxiv.org/abs/1412.6980) (a paper)"
   ]
  },
  {
   "cell_type": "code",
   "execution_count": 21,
   "metadata": {},
   "outputs": [],
   "source": [
    "def back_propagate(W1, b1, W2, b2, cache,cache2,Y,t,learning_rate = 0.01): \n",
    "    beta1 = 0.9\n",
    "    beta2 = 0.999\n",
    "    # Retrieve also A1 and A2 from dictionary \"cache\" \n",
    "    A1 = cache['A1'] \n",
    "    A2 = cache['A2']\n",
    "    # Retrieve m_dw, v_dw, m_db, v_db from dictionary \"cache2\"\n",
    "    ## Cache2 is needed to backpropagate with adam optimizer\n",
    "    m_dw2 = cache2['m_dw2']\n",
    "    m_db2 = cache2['m_db2']\n",
    "    v_dw2 = cache2['v_dw2']\n",
    "    v_db2 = cache2['v_db2']\n",
    "    m_dw1 = cache2['m_dw1']\n",
    "    m_db1 = cache2['m_db1']\n",
    "    v_dw1 = cache2['v_dw1']\n",
    "    v_db1 = cache2['v_db1']\n",
    "    \n",
    "    #Layer 2\n",
    "  \n",
    "    # Backward propagation: calculate dW1, db1, dW2, db2\n",
    "    m = Y.shape[0]\n",
    "    dZ2 = A2 - Y.T\n",
    "    dW2 = (1 / m) * np.dot(dZ2, A1.T) \n",
    "    db2 = (1 / m) * np.sum(dZ2, axis = 1, keepdims = True)\n",
    "    \n",
    "    cache2['m_dw2'] = beta1*m_dw2 + (1-beta1)*dW2\n",
    "    cache2['m_db2'] = beta1*m_db2 + (1-beta1)*db2\n",
    "    cache2['v_dw2'] = beta2*v_dw2 + (1-beta2)*(np.multiply(dW2,dW2))\n",
    "    cache2['v_db2'] = beta2*v_db2 + (1-beta2)*(np.multiply(db2,db2))\n",
    "    \n",
    "    m_dw_corr2 = cache2['m_dw2']/(1-beta1**t)\n",
    "    m_db_corr2 = cache2['m_db2']/(1-beta1**t)\n",
    "    v_dw_corr2 = cache2['v_dw2']/(1-beta2**t)\n",
    "    v_db_corr2 = cache2['v_db2']/(1-beta2**t)\n",
    "    \n",
    "    ## update weights and biases\n",
    "    W2 = W2 - learning_rate *(m_dw_corr2/(np.sqrt(v_dw_corr2)+1e-8))\n",
    "    b2 = b2 - learning_rate *(m_db_corr2/(np.sqrt(v_db_corr2)+1e-8))  ### line 37\n",
    "    \n",
    "    \n",
    "    ## Layer 1\n",
    "  \n",
    "    dZ1 = np.multiply(np.dot(W2.T, dZ2), 1 - np.power(A1, 2)) \n",
    "    dW1 = (1 / m) * np.dot(dZ1, X_train) \n",
    "    db1 = (1 / m) * np.sum(dZ1, axis = 1, keepdims = True)\n",
    "    \n",
    "    cache2['m_dw1'] = beta1*m_dw1 + (1-beta1)*dW1\n",
    "    cache2['m_db1'] = beta1*m_db1 + (1-beta1)*db1\n",
    "    cache2['v_dw1'] = beta2*v_dw1 + (1-beta2)*(np.multiply(dW1,dW1))\n",
    "    cache2['v_db1'] = beta2*v_db1 + (1-beta2)*(np.multiply(db1,db1))\n",
    "    \n",
    "    m_dw_corr1 = cache2['m_dw1']/(1-beta1**t)\n",
    "    m_db_corr1 = cache2['m_db1']/(1-beta1**t)\n",
    "    v_dw_corr1 = cache2['v_dw1']/(1-beta2**t)\n",
    "    v_db_corr1 = cache2['v_db1']/(1-beta2**t)\n",
    "    \n",
    "    W1 = W1 - learning_rate *(m_dw_corr1/(np.sqrt(v_dw_corr1)+1e-8))\n",
    "    b1 = b1 - learning_rate *(m_db_corr1/(np.sqrt(v_db_corr1)+1e-8))   ### line 57\n",
    "  \n",
    "    return W1, W2, b1, b2 "
   ]
  },
  {
   "cell_type": "markdown",
   "metadata": {},
   "source": [
    "#### Fit our data\n",
    "\n",
    "Our model architecture  is ready, we need to fit our data to train our model.\n",
    "Apparently, ANN model with only one hidden layer still can't catch complexity for data with extreme outliers. If we take a quick look to our dataset. We can found some data that multiply greatly or randomly high and low. That make the input dynamics pretty complex. So I need to put some scaler. Because of extreme outliers, I use Robust scaler that take 25th, 50th and 75th percentile of our data to rescaling our data instead of standard deviation.\n",
    "\n",
    "[Robust Scaling Formula](https://machinelearningmastery.com/robust-scaler-transforms-for-machine-learning/#:~:text=Standardization%20is%20calculated%20by%20subtracting,dividing%20by%20the%20standard%20deviation.&text=Sometimes%20an%20input%20variable%20may%20have%20outlier%20values.&text=This%20is%20called%20robust%20standardization,the%2025th%20and%2075th%20percentiles)"
   ]
  },
  {
   "cell_type": "code",
   "execution_count": 22,
   "metadata": {},
   "outputs": [],
   "source": [
    "scalar = RobustScaler()\n",
    "scalar.fit(X_train)\n",
    "X_train = scalar.transform(X_train)"
   ]
  },
  {
   "cell_type": "code",
   "execution_count": 23,
   "metadata": {},
   "outputs": [
    {
     "name": "stdout",
     "output_type": "stream",
     "text": [
      "Cost after iteration  0:  0.366575\n",
      "Cost after iteration  50:  0.281343\n",
      "Cost after iteration  100:  0.195156\n",
      "Cost after iteration  150:  0.116151\n",
      "Cost after iteration  200:  0.086671\n",
      "Cost after iteration  250:  0.075801\n",
      "Cost after iteration  300:  0.069707\n",
      "Cost after iteration  350:  0.064787\n",
      "Cost after iteration  400:  0.060253\n",
      "Cost after iteration  450:  0.055362\n",
      "Cost after iteration  500:  0.049654\n"
     ]
    }
   ],
   "source": [
    "# Please note that the weights and bias are global  \n",
    "# Here num_iteration is epochs\n",
    "# Cache 2 are essensial to train our data with Adam Optimizer\n",
    "array_cost = np.array([])\n",
    "cache2 = {'m_dw2':0,\n",
    "          'm_db2':0,\n",
    "          'v_dw2':0,\n",
    "          'v_db2':0,\n",
    "          'm_dw1':0,\n",
    "          'm_db1':0,\n",
    "          'v_dw1':0,\n",
    "          'v_db1':0}\n",
    "\n",
    "for i in range(0,501):\n",
    "    t = i +1\n",
    "        \n",
    "    # Forward propagation. Inputs: \"X, parameters\". return: \"A2, cache\". \n",
    "    A2, cache = forward_prop(X_train, W1, W2, b1, b2) \n",
    "          \n",
    "    # Cost function. Inputs: \"A2, Y\". Outputs: \"cost\". \n",
    "    cost = cost_crossentropy(A2, y_train)\n",
    "   \n",
    "    # Backpropagation. Inputs: \"parameters, cache, X, Y\". Outputs: \"grads\". \n",
    "    W1, W2, b1, b2 = back_propagate(W1, b1, W2, b2, cache,cache2,y_train,t,0.01) \n",
    "          \n",
    "    # Print the cost every 1000 iterations \n",
    "    if i % 50 == 0: \n",
    "        print (\"Cost after iteration % i: % f\" % (i, cost))\n",
    "            \n",
    "    array_cost = np.append(array_cost,cost)"
   ]
  },
  {
   "cell_type": "markdown",
   "metadata": {},
   "source": [
    "# Model with test dataset"
   ]
  },
  {
   "cell_type": "code",
   "execution_count": 24,
   "metadata": {},
   "outputs": [],
   "source": [
    "## Initiate data frame\n",
    "p = {'x': [], 'x1': [],'x2': [], 'x3': [],'x4': [], 'x5': [],'geom':[],'aritmatik':[],'none':[]}\n",
    "df_try = pd.DataFrame(data=p)\n",
    "\n",
    "for i in range(100):\n",
    "    k = randint(3)\n",
    "    if k == 0:\n",
    "        #generate geom\n",
    "        a = randint(low = -200, high= 200)\n",
    "        r = randint(low= -10,high=10)\n",
    "        data = {'x':a, 'x1': a*r,'x2': a*r**2, 'x3': a*r**3,'x4': a*r**4, 'x5': a*r**5,'geom':1,'aritmatik':0,'none':0}\n",
    "        df_try = df_try.append(data,ignore_index=True)\n",
    "        \n",
    "    elif k == 1:\n",
    "        #generate aritmatik\n",
    "        a = randint(low = -200, high= 200)\n",
    "        b = randint(low= -50,high=50)\n",
    "        data = {'x':a, 'x1': a+b,'x2': a+b*2, 'x3': a+b*3,'x4': a+b*4, 'x5': a+b*5,'geom':0,'aritmatik':1,'none':0}\n",
    "        df_try = df_try.append(data,ignore_index=True)\n",
    "    \n",
    "    else:\n",
    "        #generate geom\n",
    "        a = randint(low = -1000, high= 1000,size =6)\n",
    "        data = {'x':a[0], 'x1': a[1],'x2': a[2], 'x3': a[3],'x4': a[4], 'x5': a[5],'geom':0,'aritmatik':0,'none':1}\n",
    "        df_try = df_try.append(data,ignore_index=True)"
   ]
  },
  {
   "cell_type": "code",
   "execution_count": 25,
   "metadata": {},
   "outputs": [],
   "source": [
    "X_try = df_try[['x','x1','x2','x3','x4','x5']].to_numpy()\n",
    "y_test = df_try[['geom','aritmatik','none']].to_numpy()\n",
    "X_test = scalar.transform(X_try)"
   ]
  },
  {
   "cell_type": "code",
   "execution_count": 26,
   "metadata": {},
   "outputs": [],
   "source": [
    "## Predict\n",
    "pred, cache = forward_prop(X_test, W1, W2, b1, b2)"
   ]
  },
  {
   "cell_type": "code",
   "execution_count": 33,
   "metadata": {},
   "outputs": [
    {
     "name": "stdout",
     "output_type": "stream",
     "text": [
      "   geom  aritmatik  none\n",
      "0   1.0        0.0   0.0\n",
      "1   0.0        0.0   1.0\n",
      "2   0.0        0.0   1.0\n",
      "3   1.0        0.0   0.0\n",
      "4   1.0        0.0   0.0\n"
     ]
    },
    {
     "data": {
      "text/html": [
       "<div>\n",
       "<style scoped>\n",
       "    .dataframe tbody tr th:only-of-type {\n",
       "        vertical-align: middle;\n",
       "    }\n",
       "\n",
       "    .dataframe tbody tr th {\n",
       "        vertical-align: top;\n",
       "    }\n",
       "\n",
       "    .dataframe thead th {\n",
       "        text-align: right;\n",
       "    }\n",
       "</style>\n",
       "<table border=\"1\" class=\"dataframe\">\n",
       "  <thead>\n",
       "    <tr style=\"text-align: right;\">\n",
       "      <th></th>\n",
       "      <th>Geom</th>\n",
       "      <th>Aritmatik</th>\n",
       "      <th>None</th>\n",
       "    </tr>\n",
       "  </thead>\n",
       "  <tbody>\n",
       "    <tr>\n",
       "      <th>0</th>\n",
       "      <td>0.972910</td>\n",
       "      <td>0.008871</td>\n",
       "      <td>0.018219</td>\n",
       "    </tr>\n",
       "    <tr>\n",
       "      <th>1</th>\n",
       "      <td>0.002454</td>\n",
       "      <td>0.000027</td>\n",
       "      <td>0.997518</td>\n",
       "    </tr>\n",
       "    <tr>\n",
       "      <th>2</th>\n",
       "      <td>0.002512</td>\n",
       "      <td>0.015575</td>\n",
       "      <td>0.981913</td>\n",
       "    </tr>\n",
       "    <tr>\n",
       "      <th>3</th>\n",
       "      <td>0.982689</td>\n",
       "      <td>0.010167</td>\n",
       "      <td>0.007144</td>\n",
       "    </tr>\n",
       "    <tr>\n",
       "      <th>4</th>\n",
       "      <td>0.982689</td>\n",
       "      <td>0.010167</td>\n",
       "      <td>0.007144</td>\n",
       "    </tr>\n",
       "  </tbody>\n",
       "</table>\n",
       "</div>"
      ],
      "text/plain": [
       "       Geom  Aritmatik      None\n",
       "0  0.972910   0.008871  0.018219\n",
       "1  0.002454   0.000027  0.997518\n",
       "2  0.002512   0.015575  0.981913\n",
       "3  0.982689   0.010167  0.007144\n",
       "4  0.982689   0.010167  0.007144"
      ]
     },
     "execution_count": 33,
     "metadata": {},
     "output_type": "execute_result"
    }
   ],
   "source": [
    "print(df_try[['geom','aritmatik','none']].head(5))\n",
    "pred_df = pd.DataFrame(data = pred.T,columns = ['Geom','Aritmatik','None'])\n",
    "pred_df.head(5)"
   ]
  },
  {
   "cell_type": "markdown",
   "metadata": {},
   "source": [
    "#### Model Evaluation\n",
    "\n",
    "I provide some confusion matrix and classification report to get a big picture of our model performance"
   ]
  },
  {
   "cell_type": "code",
   "execution_count": 34,
   "metadata": {},
   "outputs": [],
   "source": [
    "## Confusion Matrix train\n",
    "\n",
    "y_train_ind = np.argmax(y_train,axis =1)\n",
    "y_predict_tr,cache_tr = forward_prop(X_train, W1, W2, b1, b2)\n",
    "y_preds_train = np.argmax(y_predict_tr.T,axis =1)\n",
    "cm_train = confusion_matrix(y_train_ind,y_preds_train)"
   ]
  },
  {
   "cell_type": "code",
   "execution_count": 35,
   "metadata": {},
   "outputs": [
    {
     "data": {
      "text/plain": [
       "array([[152,  16,   4],\n",
       "       [  0, 158,   0],\n",
       "       [  0,   0, 170]], dtype=int64)"
      ]
     },
     "execution_count": 35,
     "metadata": {},
     "output_type": "execute_result"
    }
   ],
   "source": [
    "cm_train"
   ]
  },
  {
   "cell_type": "code",
   "execution_count": 36,
   "metadata": {},
   "outputs": [
    {
     "name": "stdout",
     "output_type": "stream",
     "text": [
      "classification report train\n",
      "              precision    recall  f1-score   support\n",
      "\n",
      "        Geom       1.00      0.88      0.94       172\n",
      "   Aritmatik       0.91      1.00      0.95       158\n",
      "        none       0.98      1.00      0.99       170\n",
      "\n",
      "    accuracy                           0.96       500\n",
      "   macro avg       0.96      0.96      0.96       500\n",
      "weighted avg       0.96      0.96      0.96       500\n",
      "\n"
     ]
    }
   ],
   "source": [
    "print('classification report train')\n",
    "print(classification_report(y_train_ind, y_preds_train, target_names=['Geom','Aritmatik','none']))"
   ]
  },
  {
   "cell_type": "code",
   "execution_count": 37,
   "metadata": {},
   "outputs": [],
   "source": [
    "## Confusion Matrix test\n",
    "\n",
    "y_test_ind = np.argmax(y_test,axis =1)\n",
    "y_predict_test,cache_test = forward_prop(X_test, W1, W2, b1, b2)\n",
    "y_preds_test = np.argmax(y_predict_test.T,axis =1)\n",
    "cm_test = confusion_matrix(y_test_ind,y_preds_test)"
   ]
  },
  {
   "cell_type": "code",
   "execution_count": 38,
   "metadata": {},
   "outputs": [
    {
     "data": {
      "text/plain": [
       "array([[38,  1,  1],\n",
       "       [ 0, 28,  0],\n",
       "       [ 2,  1, 29]], dtype=int64)"
      ]
     },
     "execution_count": 38,
     "metadata": {},
     "output_type": "execute_result"
    }
   ],
   "source": [
    "cm_test"
   ]
  },
  {
   "cell_type": "code",
   "execution_count": 39,
   "metadata": {
    "scrolled": true
   },
   "outputs": [
    {
     "name": "stdout",
     "output_type": "stream",
     "text": [
      "classification report train\n",
      "              precision    recall  f1-score   support\n",
      "\n",
      "        Geom       0.95      0.95      0.95        40\n",
      "   Aritmatik       0.93      1.00      0.97        28\n",
      "        none       0.97      0.91      0.94        32\n",
      "\n",
      "    accuracy                           0.95       100\n",
      "   macro avg       0.95      0.95      0.95       100\n",
      "weighted avg       0.95      0.95      0.95       100\n",
      "\n"
     ]
    }
   ],
   "source": [
    "print('classification report train')\n",
    "print(classification_report(y_test_ind, y_preds_test, target_names=['Geom','Aritmatik','none']))"
   ]
  },
  {
   "cell_type": "markdown",
   "metadata": {},
   "source": [
    "The report itself, based on f1-score both on train and test set. The model already get some satisfying results"
   ]
  },
  {
   "cell_type": "markdown",
   "metadata": {},
   "source": [
    "### Read csv\n",
    "\n",
    "Use our model to some a dataset that I prepare to compare our model with the same exact model but with Keras package(tf backend)"
   ]
  },
  {
   "cell_type": "code",
   "execution_count": 40,
   "metadata": {},
   "outputs": [],
   "source": [
    "csv = pd.read_csv('compare.csv',header = 0)"
   ]
  },
  {
   "cell_type": "code",
   "execution_count": 41,
   "metadata": {},
   "outputs": [
    {
     "data": {
      "text/html": [
       "<div>\n",
       "<style scoped>\n",
       "    .dataframe tbody tr th:only-of-type {\n",
       "        vertical-align: middle;\n",
       "    }\n",
       "\n",
       "    .dataframe tbody tr th {\n",
       "        vertical-align: top;\n",
       "    }\n",
       "\n",
       "    .dataframe thead th {\n",
       "        text-align: right;\n",
       "    }\n",
       "</style>\n",
       "<table border=\"1\" class=\"dataframe\">\n",
       "  <thead>\n",
       "    <tr style=\"text-align: right;\">\n",
       "      <th></th>\n",
       "      <th>x</th>\n",
       "      <th>x1</th>\n",
       "      <th>x2</th>\n",
       "      <th>x3</th>\n",
       "      <th>x4</th>\n",
       "      <th>x5</th>\n",
       "      <th>geom</th>\n",
       "      <th>aritmatik</th>\n",
       "      <th>none</th>\n",
       "    </tr>\n",
       "  </thead>\n",
       "  <tbody>\n",
       "    <tr>\n",
       "      <th>0</th>\n",
       "      <td>16.0</td>\n",
       "      <td>-16.0</td>\n",
       "      <td>-48.0</td>\n",
       "      <td>-80.0</td>\n",
       "      <td>-112.0</td>\n",
       "      <td>-144.0</td>\n",
       "      <td>0.0</td>\n",
       "      <td>1.0</td>\n",
       "      <td>0.0</td>\n",
       "    </tr>\n",
       "    <tr>\n",
       "      <th>1</th>\n",
       "      <td>381.0</td>\n",
       "      <td>-19.0</td>\n",
       "      <td>234.0</td>\n",
       "      <td>815.0</td>\n",
       "      <td>-864.0</td>\n",
       "      <td>233.0</td>\n",
       "      <td>0.0</td>\n",
       "      <td>0.0</td>\n",
       "      <td>1.0</td>\n",
       "    </tr>\n",
       "    <tr>\n",
       "      <th>2</th>\n",
       "      <td>-27.0</td>\n",
       "      <td>54.0</td>\n",
       "      <td>-108.0</td>\n",
       "      <td>216.0</td>\n",
       "      <td>-432.0</td>\n",
       "      <td>864.0</td>\n",
       "      <td>1.0</td>\n",
       "      <td>0.0</td>\n",
       "      <td>0.0</td>\n",
       "    </tr>\n",
       "    <tr>\n",
       "      <th>3</th>\n",
       "      <td>98.0</td>\n",
       "      <td>882.0</td>\n",
       "      <td>7938.0</td>\n",
       "      <td>71442.0</td>\n",
       "      <td>642978.0</td>\n",
       "      <td>5786802.0</td>\n",
       "      <td>1.0</td>\n",
       "      <td>0.0</td>\n",
       "      <td>0.0</td>\n",
       "    </tr>\n",
       "    <tr>\n",
       "      <th>4</th>\n",
       "      <td>-58.0</td>\n",
       "      <td>116.0</td>\n",
       "      <td>-232.0</td>\n",
       "      <td>464.0</td>\n",
       "      <td>-928.0</td>\n",
       "      <td>1856.0</td>\n",
       "      <td>1.0</td>\n",
       "      <td>0.0</td>\n",
       "      <td>0.0</td>\n",
       "    </tr>\n",
       "    <tr>\n",
       "      <th>...</th>\n",
       "      <td>...</td>\n",
       "      <td>...</td>\n",
       "      <td>...</td>\n",
       "      <td>...</td>\n",
       "      <td>...</td>\n",
       "      <td>...</td>\n",
       "      <td>...</td>\n",
       "      <td>...</td>\n",
       "      <td>...</td>\n",
       "    </tr>\n",
       "    <tr>\n",
       "      <th>70</th>\n",
       "      <td>-150.0</td>\n",
       "      <td>300.0</td>\n",
       "      <td>-600.0</td>\n",
       "      <td>1200.0</td>\n",
       "      <td>-2400.0</td>\n",
       "      <td>4800.0</td>\n",
       "      <td>1.0</td>\n",
       "      <td>0.0</td>\n",
       "      <td>0.0</td>\n",
       "    </tr>\n",
       "    <tr>\n",
       "      <th>71</th>\n",
       "      <td>99.0</td>\n",
       "      <td>101.0</td>\n",
       "      <td>103.0</td>\n",
       "      <td>105.0</td>\n",
       "      <td>107.0</td>\n",
       "      <td>109.0</td>\n",
       "      <td>0.0</td>\n",
       "      <td>1.0</td>\n",
       "      <td>0.0</td>\n",
       "    </tr>\n",
       "    <tr>\n",
       "      <th>72</th>\n",
       "      <td>636.0</td>\n",
       "      <td>-695.0</td>\n",
       "      <td>-714.0</td>\n",
       "      <td>314.0</td>\n",
       "      <td>-287.0</td>\n",
       "      <td>134.0</td>\n",
       "      <td>0.0</td>\n",
       "      <td>0.0</td>\n",
       "      <td>1.0</td>\n",
       "    </tr>\n",
       "    <tr>\n",
       "      <th>73</th>\n",
       "      <td>129.0</td>\n",
       "      <td>-247.0</td>\n",
       "      <td>62.0</td>\n",
       "      <td>263.0</td>\n",
       "      <td>-533.0</td>\n",
       "      <td>954.0</td>\n",
       "      <td>0.0</td>\n",
       "      <td>0.0</td>\n",
       "      <td>1.0</td>\n",
       "    </tr>\n",
       "    <tr>\n",
       "      <th>74</th>\n",
       "      <td>64.0</td>\n",
       "      <td>59.0</td>\n",
       "      <td>54.0</td>\n",
       "      <td>49.0</td>\n",
       "      <td>44.0</td>\n",
       "      <td>39.0</td>\n",
       "      <td>0.0</td>\n",
       "      <td>1.0</td>\n",
       "      <td>0.0</td>\n",
       "    </tr>\n",
       "  </tbody>\n",
       "</table>\n",
       "<p>75 rows × 9 columns</p>\n",
       "</div>"
      ],
      "text/plain": [
       "        x     x1      x2       x3        x4         x5  geom  aritmatik  none\n",
       "0    16.0  -16.0   -48.0    -80.0    -112.0     -144.0   0.0        1.0   0.0\n",
       "1   381.0  -19.0   234.0    815.0    -864.0      233.0   0.0        0.0   1.0\n",
       "2   -27.0   54.0  -108.0    216.0    -432.0      864.0   1.0        0.0   0.0\n",
       "3    98.0  882.0  7938.0  71442.0  642978.0  5786802.0   1.0        0.0   0.0\n",
       "4   -58.0  116.0  -232.0    464.0    -928.0     1856.0   1.0        0.0   0.0\n",
       "..    ...    ...     ...      ...       ...        ...   ...        ...   ...\n",
       "70 -150.0  300.0  -600.0   1200.0   -2400.0     4800.0   1.0        0.0   0.0\n",
       "71   99.0  101.0   103.0    105.0     107.0      109.0   0.0        1.0   0.0\n",
       "72  636.0 -695.0  -714.0    314.0    -287.0      134.0   0.0        0.0   1.0\n",
       "73  129.0 -247.0    62.0    263.0    -533.0      954.0   0.0        0.0   1.0\n",
       "74   64.0   59.0    54.0     49.0      44.0       39.0   0.0        1.0   0.0\n",
       "\n",
       "[75 rows x 9 columns]"
      ]
     },
     "execution_count": 41,
     "metadata": {},
     "output_type": "execute_result"
    }
   ],
   "source": [
    "csv"
   ]
  },
  {
   "cell_type": "code",
   "execution_count": 42,
   "metadata": {},
   "outputs": [],
   "source": [
    "X_csv = csv[['x','x1','x2','x3','x4','x5']].to_numpy()\n",
    "y_csv = csv[['geom','aritmatik','none']].to_numpy()\n",
    "X_csv = scalar.transform(X_csv)"
   ]
  },
  {
   "cell_type": "code",
   "execution_count": 43,
   "metadata": {},
   "outputs": [],
   "source": [
    "## Predict\n",
    "pred_csv, cache = forward_prop(X_test, W1, W2, b1, b2)"
   ]
  },
  {
   "cell_type": "code",
   "execution_count": 44,
   "metadata": {},
   "outputs": [],
   "source": [
    "## Confusion Matrix test\n",
    "y_csv_ind = np.argmax(y_csv,axis =1)\n",
    "y_predict_csv,cache_test = forward_prop(X_csv, W1, W2, b1, b2)\n",
    "y_preds_csv = np.argmax(y_predict_csv.T,axis =1)\n",
    "cm_csv = confusion_matrix(y_csv_ind,y_preds_csv)"
   ]
  },
  {
   "cell_type": "code",
   "execution_count": 45,
   "metadata": {},
   "outputs": [
    {
     "data": {
      "text/plain": [
       "array([[25,  3,  0],\n",
       "       [ 0, 27,  0],\n",
       "       [ 3,  0, 17]], dtype=int64)"
      ]
     },
     "execution_count": 45,
     "metadata": {},
     "output_type": "execute_result"
    }
   ],
   "source": [
    "cm_csv"
   ]
  },
  {
   "cell_type": "code",
   "execution_count": 46,
   "metadata": {},
   "outputs": [
    {
     "name": "stdout",
     "output_type": "stream",
     "text": [
      "classification report train\n",
      "              precision    recall  f1-score   support\n",
      "\n",
      "        Geom       0.89      0.89      0.89        28\n",
      "   Aritmatik       0.90      1.00      0.95        27\n",
      "        none       1.00      0.85      0.92        20\n",
      "\n",
      "    accuracy                           0.92        75\n",
      "   macro avg       0.93      0.91      0.92        75\n",
      "weighted avg       0.92      0.92      0.92        75\n",
      "\n"
     ]
    }
   ],
   "source": [
    "print('classification report train')\n",
    "print(classification_report(y_csv_ind, y_preds_csv, target_names=['Geom','Aritmatik','none']))"
   ]
  },
  {
   "cell_type": "code",
   "execution_count": 47,
   "metadata": {},
   "outputs": [
    {
     "data": {
      "text/plain": [
       "geom         28.0\n",
       "aritmatik    27.0\n",
       "none         20.0\n",
       "dtype: float64"
      ]
     },
     "execution_count": 47,
     "metadata": {},
     "output_type": "execute_result"
    }
   ],
   "source": [
    "csv[['geom','aritmatik','none']].sum()"
   ]
  }
 ],
 "metadata": {
  "kernelspec": {
   "display_name": "Python 3",
   "language": "python",
   "name": "python3"
  },
  "language_info": {
   "codemirror_mode": {
    "name": "ipython",
    "version": 3
   },
   "file_extension": ".py",
   "mimetype": "text/x-python",
   "name": "python",
   "nbconvert_exporter": "python",
   "pygments_lexer": "ipython3",
   "version": "3.6.12"
  }
 },
 "nbformat": 4,
 "nbformat_minor": 4
}

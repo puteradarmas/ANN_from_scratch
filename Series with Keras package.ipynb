{
 "cells": [
  {
   "cell_type": "code",
   "execution_count": 2,
   "metadata": {},
   "outputs": [],
   "source": [
    "import numpy as np\n",
    "import pandas as pd\n",
    "import matplotlib.pyplot as plt\n",
    "import seaborn as sns\n",
    "from numpy.random import seed\n",
    "from numpy.random import randint\n",
    "import itertools\n",
    "seed(1)"
   ]
  },
  {
   "cell_type": "code",
   "execution_count": 3,
   "metadata": {},
   "outputs": [
    {
     "name": "stderr",
     "output_type": "stream",
     "text": [
      "Using TensorFlow backend.\n"
     ]
    }
   ],
   "source": [
    "from sklearn.preprocessing import MinMaxScaler\n",
    "from sklearn.preprocessing import RobustScaler\n",
    "from sklearn.metrics import confusion_matrix , classification_report\n",
    "from keras.metrics import Accuracy"
   ]
  },
  {
   "cell_type": "code",
   "execution_count": 4,
   "metadata": {},
   "outputs": [],
   "source": [
    "from keras.models import Sequential\n",
    "from keras.layers import Dense\n",
    "from keras.optimizers import SGD"
   ]
  },
  {
   "cell_type": "code",
   "execution_count": 5,
   "metadata": {},
   "outputs": [],
   "source": [
    "# Function to plot the confusion Matrix\n",
    "# Confusion Matrix func thanks to https://www.kaggle.com/pierra\n",
    "# For later uses\n",
    "\n",
    "def plot_confusion_matrix(cm, classes,\n",
    "                          title='Confusion matrix',\n",
    "                          cmap=plt.cm.Blues):\n",
    "    \n",
    "    plt.imshow(cm, interpolation='nearest', cmap=cmap)\n",
    "    plt.title(title)\n",
    "    plt.colorbar()\n",
    "    tick_marks = np.arange(len(classes))\n",
    "    plt.xticks(tick_marks, classes, rotation=0)\n",
    "    plt.yticks(tick_marks, classes)\n",
    "\n",
    "    fmt = 'd' \n",
    "    thresh = cm.max() / 2.\n",
    "    for i, j in itertools.product(range(cm.shape[0]), range(cm.shape[1])):\n",
    "        plt.text(j, i, format(cm[i, j], fmt),\n",
    "                 horizontalalignment=\"center\",\n",
    "                 color=\"white\" if cm[i, j] > thresh else \"black\")\n",
    "\n",
    "    plt.tight_layout()\n",
    "    plt.ylabel('True label')\n",
    "    plt.xlabel('Predicted label')"
   ]
  },
  {
   "cell_type": "code",
   "execution_count": 6,
   "metadata": {},
   "outputs": [],
   "source": [
    "model = Sequential()\n",
    "model.add(Dense(10,input_shape=(6,),activation ='tanh'))\n",
    "model.add(Dense(3,activation='softmax'))"
   ]
  },
  {
   "cell_type": "code",
   "execution_count": 7,
   "metadata": {},
   "outputs": [],
   "source": [
    "## opt = SGD(learning_rate=0.01, momentum=0.0)\n",
    "model.compile(optimizer='adam',loss='categorical_crossentropy',metrics=['acc'])"
   ]
  },
  {
   "cell_type": "code",
   "execution_count": 8,
   "metadata": {},
   "outputs": [
    {
     "name": "stdout",
     "output_type": "stream",
     "text": [
      "Model: \"sequential_1\"\n",
      "_________________________________________________________________\n",
      "Layer (type)                 Output Shape              Param #   \n",
      "=================================================================\n",
      "dense_1 (Dense)              (None, 10)                70        \n",
      "_________________________________________________________________\n",
      "dense_2 (Dense)              (None, 3)                 33        \n",
      "=================================================================\n",
      "Total params: 103\n",
      "Trainable params: 103\n",
      "Non-trainable params: 0\n",
      "_________________________________________________________________\n"
     ]
    }
   ],
   "source": [
    "model.summary()"
   ]
  },
  {
   "cell_type": "code",
   "execution_count": 9,
   "metadata": {},
   "outputs": [],
   "source": [
    "## Initiate data frame train\n",
    "d = {'x': [], 'x1': [],'x2': [], 'x3': [],'x4': [], 'x5': [],'geom':[],'aritmatik':[],'none':[]}\n",
    "df = pd.DataFrame(data=d)\n",
    "## generate random data\n",
    "for i in range(500):\n",
    "    k = randint(3)\n",
    "    if k == 0:\n",
    "        #generate geom\n",
    "        a = randint(low = -200, high= 200)\n",
    "        r = randint(low= -10,high=10)\n",
    "        data = {'x':a, 'x1': a*r,'x2': a*r**2, 'x3': a*r**3,'x4': a*r**4, 'x5': a*r**5,'geom':1,'aritmatik':0,'none':0}\n",
    "        df = df.append(data,ignore_index=True)\n",
    "        \n",
    "    elif k == 1:\n",
    "        #generate aritmatik\n",
    "        a = randint(low = -200, high= 200)\n",
    "        b = randint(low= -50,high=50)\n",
    "        data = {'x':a, 'x1': a+b,'x2': a+b*2, 'x3': a+b*3,'x4': a+b*4, 'x5': a+b*5,'geom':0,'aritmatik':1,'none':0}\n",
    "        df = df.append(data,ignore_index=True)\n",
    "    \n",
    "    else:\n",
    "        #generate geom\n",
    "        a = randint(low = -1000, high= 1000,size =6)\n",
    "        data = {'x':a[0], 'x1': a[1],'x2': a[2], 'x3': a[3],'x4': a[4], 'x5': a[5],'geom':0,'aritmatik':0,'none':1}\n",
    "        df = df.append(data,ignore_index=True)"
   ]
  },
  {
   "cell_type": "code",
   "execution_count": 10,
   "metadata": {},
   "outputs": [],
   "source": [
    "## Initiate data frame test\n",
    "p = {'x': [], 'x1': [],'x2': [], 'x3': [],'x4': [], 'x5': [],'geom':[],'aritmatik':[],'none':[]}\n",
    "df_try = pd.DataFrame(data=p)\n",
    "\n",
    "seed(173)\n",
    "\n",
    "for i in range(200):\n",
    "    k = randint(3)\n",
    "    if k == 0:\n",
    "        #generate geom\n",
    "        a = randint(low = -200, high= 200)\n",
    "        r = randint(low= -10,high=10)\n",
    "        data = {'x':a, 'x1': a*r,'x2': a*r**2, 'x3': a*r**3,'x4': a*r**4, 'x5': a*r**5,'geom':1,'aritmatik':0,'none':0}\n",
    "        df_try = df_try.append(data,ignore_index=True)\n",
    "        \n",
    "    elif k == 1:\n",
    "        #generate aritmatik\n",
    "        a = randint(low = -200, high= 200)\n",
    "        b = randint(low= -50,high=50)\n",
    "        data = {'x':a, 'x1': a+b,'x2': a+b*2, 'x3': a+b*3,'x4': a+b*4, 'x5': a+b*5,'geom':0,'aritmatik':1,'none':0}\n",
    "        df_try = df_try.append(data,ignore_index=True)\n",
    "    \n",
    "    else:\n",
    "        #generate geom\n",
    "        a = randint(low = -1000, high= 1000,size =6)\n",
    "        data = {'x':a[0], 'x1': a[1],'x2': a[2], 'x3': a[3],'x4': a[4], 'x5': a[5],'geom':0,'aritmatik':0,'none':1}\n",
    "        df_try = df_try.append(data,ignore_index=True)\n",
    "        \n",
    "X_test = df_try[['x','x1','x2','x3','x4','x5']]\n",
    "y_test = df_try[['geom','aritmatik','none']]"
   ]
  },
  {
   "cell_type": "code",
   "execution_count": 11,
   "metadata": {},
   "outputs": [],
   "source": [
    "X_train = df[['x','x1','x2','x3','x4','x5']]\n",
    "y_train = df[['geom','aritmatik','none']]"
   ]
  },
  {
   "cell_type": "code",
   "execution_count": 12,
   "metadata": {},
   "outputs": [],
   "source": [
    "scalar = RobustScaler()\n",
    "scalar.fit(X_train)\n",
    "X_train = scalar.transform(X_train)\n",
    "X_test = scalar.transform(X_test)"
   ]
  },
  {
   "cell_type": "code",
   "execution_count": 13,
   "metadata": {},
   "outputs": [
    {
     "data": {
      "text/plain": [
       "numpy.ndarray"
      ]
     },
     "execution_count": 13,
     "metadata": {},
     "output_type": "execute_result"
    }
   ],
   "source": [
    "type(X_train)"
   ]
  },
  {
   "cell_type": "code",
   "execution_count": 14,
   "metadata": {},
   "outputs": [
    {
     "name": "stdout",
     "output_type": "stream",
     "text": [
      "200/200 [==============================] - 0s 40us/step\n",
      "200/200 [==============================] - 0s 40us/step\n",
      "Evaluation: \n",
      "Loss: 0.19976267337799072 \n",
      "Accuracy: 0.9399999976158142\n"
     ]
    }
   ],
   "source": [
    "model.fit(X_train, y_train,epochs = 500,validation_data=(X_test,y_test),verbose = 0)\n",
    "# Evaluate your model \n",
    "print(\"Evaluation: \\nLoss:\",model.evaluate(X_test, y_test)[0],'\\nAccuracy:',model.evaluate(X_test, y_test)[1]) "
   ]
  },
  {
   "cell_type": "code",
   "execution_count": 15,
   "metadata": {},
   "outputs": [],
   "source": [
    "y_predict = model.predict_proba(X_test)\n",
    "y_preds = np.argmax(y_predict,axis =1)\n",
    "y_test_arg = np.argmax(y_test.to_numpy(),axis = 1)"
   ]
  },
  {
   "cell_type": "code",
   "execution_count": 16,
   "metadata": {},
   "outputs": [
    {
     "data": {
      "image/png": "[encoded data removed]",
      "text/plain": [
       "<Figure size 432x288 with 2 Axes>"
      ]
     },
     "metadata": {
      "needs_background": "light"
     },
     "output_type": "display_data"
    }
   ],
   "source": [
    "# Plot Confusion Matrix\n",
    "\n",
    "class_names=np.array(['Geom','Aritmatik','none'])\n",
    "\n",
    "cm = confusion_matrix(y_test_arg,y_preds)\n",
    "plot_confusion_matrix(cm,class_names)"
   ]
  },
  {
   "cell_type": "code",
   "execution_count": 17,
   "metadata": {},
   "outputs": [
    {
     "name": "stdout",
     "output_type": "stream",
     "text": [
      "              precision    recall  f1-score   support\n",
      "\n",
      "        Geom       0.96      0.88      0.92        57\n",
      "   Aritmatik       0.87      1.00      0.93        66\n",
      "        none       1.00      0.94      0.97        77\n",
      "\n",
      "    accuracy                           0.94       200\n",
      "   macro avg       0.94      0.94      0.94       200\n",
      "weighted avg       0.95      0.94      0.94       200\n",
      "\n"
     ]
    }
   ],
   "source": [
    "print(classification_report(y_test_arg, y_preds, target_names=['Geom','Aritmatik','none']))"
   ]
  },
  {
   "cell_type": "code",
   "execution_count": 18,
   "metadata": {},
   "outputs": [
    {
     "data": {
      "text/plain": [
       "array([1, 1, 1, 1, 0, 1, 1, 1, 1, 1, 1, 1, 2, 2, 1, 2, 2, 1, 2, 2, 2, 0,\n",
       "       1, 0, 2, 0, 2, 2, 0, 2, 0, 1, 2, 2, 1, 1, 1, 2, 2, 1, 0, 1, 0, 1,\n",
       "       1, 0, 1, 1, 1, 2, 0, 2, 0, 1, 2, 2, 2, 0, 2, 2, 1, 0, 1, 0, 0, 0,\n",
       "       1, 2, 1, 0, 1, 2, 2, 0, 2, 2, 2, 0, 0, 2, 0, 1, 1, 0, 0, 1, 2, 1,\n",
       "       1, 1, 0, 1, 1, 1, 2, 2, 1, 0, 2, 1, 2, 0, 2, 1, 2, 1, 1, 2, 1, 0,\n",
       "       1, 2, 2, 0, 0, 0, 0, 1, 2, 1, 1, 1, 1, 2, 2, 2, 0, 0, 0, 0, 1, 2,\n",
       "       0, 1, 2, 2, 0, 1, 1, 2, 0, 2, 1, 2, 1, 1, 2, 1, 1, 0, 2, 1, 1, 2,\n",
       "       0, 2, 1, 0, 2, 1, 1, 2, 2, 2, 0, 2, 1, 1, 2, 0, 1, 2, 0, 2, 0, 0,\n",
       "       0, 2, 1, 2, 2, 1, 2, 2, 2, 0, 0, 1, 2, 1, 0, 1, 2, 0, 0, 1, 2, 1,\n",
       "       2, 2], dtype=int64)"
      ]
     },
     "execution_count": 18,
     "metadata": {},
     "output_type": "execute_result"
    }
   ],
   "source": [
    "y_preds"
   ]
  },
  {
   "cell_type": "code",
   "execution_count": 19,
   "metadata": {},
   "outputs": [],
   "source": [
    "## history = model.fit(X_train, y_train,epochs = 100,validation_data=(X_test,y_test))"
   ]
  },
  {
   "cell_type": "code",
   "execution_count": 20,
   "metadata": {},
   "outputs": [
    {
     "data": {
      "image/png": "[encoded data removed]",
      "text/plain": [
       "<Figure size 432x288 with 1 Axes>"
      ]
     },
     "metadata": {
      "needs_background": "light"
     },
     "output_type": "display_data"
    }
   ],
   "source": [
    "plt.figure()\n",
    "\n",
    "plt.plot(model.history.history['loss'])\n",
    "plt.plot(model.history.history['val_loss'])\n",
    "plt.xlabel('Epoch')\n",
    "plt.legend(['Train','Test'])\n",
    "plt.show()"
   ]
  },
  {
   "cell_type": "code",
   "execution_count": 21,
   "metadata": {},
   "outputs": [
    {
     "data": {
      "image/png": "[encoded data removed]",
      "text/plain": [
       "<Figure size 432x288 with 1 Axes>"
      ]
     },
     "metadata": {
      "needs_background": "light"
     },
     "output_type": "display_data"
    }
   ],
   "source": [
    "plt.figure()\n",
    "\n",
    "plt.plot(model.history.history['acc'])\n",
    "plt.plot(model.history.history['val_acc'])\n",
    "plt.xlabel('Epoch')\n",
    "plt.legend(['Train','Test'])\n",
    "plt.show()"
   ]
  },
  {
   "cell_type": "code",
   "execution_count": 22,
   "metadata": {},
   "outputs": [],
   "source": [
    "#### CSV test"
   ]
  },
  {
   "cell_type": "code",
   "execution_count": 23,
   "metadata": {},
   "outputs": [],
   "source": [
    "csv = pd.read_csv('compare.csv',header = 0)"
   ]
  },
  {
   "cell_type": "code",
   "execution_count": 24,
   "metadata": {},
   "outputs": [
    {
     "data": {
      "text/html": [
       "<div>\n",
       "<style scoped>\n",
       "    .dataframe tbody tr th:only-of-type {\n",
       "        vertical-align: middle;\n",
       "    }\n",
       "\n",
       "    .dataframe tbody tr th {\n",
       "        vertical-align: top;\n",
       "    }\n",
       "\n",
       "    .dataframe thead th {\n",
       "        text-align: right;\n",
       "    }\n",
       "</style>\n",
       "<table border=\"1\" class=\"dataframe\">\n",
       "  <thead>\n",
       "    <tr style=\"text-align: right;\">\n",
       "      <th></th>\n",
       "      <th>x</th>\n",
       "      <th>x1</th>\n",
       "      <th>x2</th>\n",
       "      <th>x3</th>\n",
       "      <th>x4</th>\n",
       "      <th>x5</th>\n",
       "      <th>geom</th>\n",
       "      <th>aritmatik</th>\n",
       "      <th>none</th>\n",
       "    </tr>\n",
       "  </thead>\n",
       "  <tbody>\n",
       "    <tr>\n",
       "      <th>0</th>\n",
       "      <td>16.0</td>\n",
       "      <td>-16.0</td>\n",
       "      <td>-48.0</td>\n",
       "      <td>-80.0</td>\n",
       "      <td>-112.0</td>\n",
       "      <td>-144.0</td>\n",
       "      <td>0.0</td>\n",
       "      <td>1.0</td>\n",
       "      <td>0.0</td>\n",
       "    </tr>\n",
       "    <tr>\n",
       "      <th>1</th>\n",
       "      <td>381.0</td>\n",
       "      <td>-19.0</td>\n",
       "      <td>234.0</td>\n",
       "      <td>815.0</td>\n",
       "      <td>-864.0</td>\n",
       "      <td>233.0</td>\n",
       "      <td>0.0</td>\n",
       "      <td>0.0</td>\n",
       "      <td>1.0</td>\n",
       "    </tr>\n",
       "    <tr>\n",
       "      <th>2</th>\n",
       "      <td>-27.0</td>\n",
       "      <td>54.0</td>\n",
       "      <td>-108.0</td>\n",
       "      <td>216.0</td>\n",
       "      <td>-432.0</td>\n",
       "      <td>864.0</td>\n",
       "      <td>1.0</td>\n",
       "      <td>0.0</td>\n",
       "      <td>0.0</td>\n",
       "    </tr>\n",
       "    <tr>\n",
       "      <th>3</th>\n",
       "      <td>98.0</td>\n",
       "      <td>882.0</td>\n",
       "      <td>7938.0</td>\n",
       "      <td>71442.0</td>\n",
       "      <td>642978.0</td>\n",
       "      <td>5786802.0</td>\n",
       "      <td>1.0</td>\n",
       "      <td>0.0</td>\n",
       "      <td>0.0</td>\n",
       "    </tr>\n",
       "    <tr>\n",
       "      <th>4</th>\n",
       "      <td>-58.0</td>\n",
       "      <td>116.0</td>\n",
       "      <td>-232.0</td>\n",
       "      <td>464.0</td>\n",
       "      <td>-928.0</td>\n",
       "      <td>1856.0</td>\n",
       "      <td>1.0</td>\n",
       "      <td>0.0</td>\n",
       "      <td>0.0</td>\n",
       "    </tr>\n",
       "    <tr>\n",
       "      <th>...</th>\n",
       "      <td>...</td>\n",
       "      <td>...</td>\n",
       "      <td>...</td>\n",
       "      <td>...</td>\n",
       "      <td>...</td>\n",
       "      <td>...</td>\n",
       "      <td>...</td>\n",
       "      <td>...</td>\n",
       "      <td>...</td>\n",
       "    </tr>\n",
       "    <tr>\n",
       "      <th>70</th>\n",
       "      <td>-150.0</td>\n",
       "      <td>300.0</td>\n",
       "      <td>-600.0</td>\n",
       "      <td>1200.0</td>\n",
       "      <td>-2400.0</td>\n",
       "      <td>4800.0</td>\n",
       "      <td>1.0</td>\n",
       "      <td>0.0</td>\n",
       "      <td>0.0</td>\n",
       "    </tr>\n",
       "    <tr>\n",
       "      <th>71</th>\n",
       "      <td>99.0</td>\n",
       "      <td>101.0</td>\n",
       "      <td>103.0</td>\n",
       "      <td>105.0</td>\n",
       "      <td>107.0</td>\n",
       "      <td>109.0</td>\n",
       "      <td>0.0</td>\n",
       "      <td>1.0</td>\n",
       "      <td>0.0</td>\n",
       "    </tr>\n",
       "    <tr>\n",
       "      <th>72</th>\n",
       "      <td>636.0</td>\n",
       "      <td>-695.0</td>\n",
       "      <td>-714.0</td>\n",
       "      <td>314.0</td>\n",
       "      <td>-287.0</td>\n",
       "      <td>134.0</td>\n",
       "      <td>0.0</td>\n",
       "      <td>0.0</td>\n",
       "      <td>1.0</td>\n",
       "    </tr>\n",
       "    <tr>\n",
       "      <th>73</th>\n",
       "      <td>129.0</td>\n",
       "      <td>-247.0</td>\n",
       "      <td>62.0</td>\n",
       "      <td>263.0</td>\n",
       "      <td>-533.0</td>\n",
       "      <td>954.0</td>\n",
       "      <td>0.0</td>\n",
       "      <td>0.0</td>\n",
       "      <td>1.0</td>\n",
       "    </tr>\n",
       "    <tr>\n",
       "      <th>74</th>\n",
       "      <td>64.0</td>\n",
       "      <td>59.0</td>\n",
       "      <td>54.0</td>\n",
       "      <td>49.0</td>\n",
       "      <td>44.0</td>\n",
       "      <td>39.0</td>\n",
       "      <td>0.0</td>\n",
       "      <td>1.0</td>\n",
       "      <td>0.0</td>\n",
       "    </tr>\n",
       "  </tbody>\n",
       "</table>\n",
       "<p>75 rows × 9 columns</p>\n",
       "</div>"
      ],
      "text/plain": [
       "        x     x1      x2       x3        x4         x5  geom  aritmatik  none\n",
       "0    16.0  -16.0   -48.0    -80.0    -112.0     -144.0   0.0        1.0   0.0\n",
       "1   381.0  -19.0   234.0    815.0    -864.0      233.0   0.0        0.0   1.0\n",
       "2   -27.0   54.0  -108.0    216.0    -432.0      864.0   1.0        0.0   0.0\n",
       "3    98.0  882.0  7938.0  71442.0  642978.0  5786802.0   1.0        0.0   0.0\n",
       "4   -58.0  116.0  -232.0    464.0    -928.0     1856.0   1.0        0.0   0.0\n",
       "..    ...    ...     ...      ...       ...        ...   ...        ...   ...\n",
       "70 -150.0  300.0  -600.0   1200.0   -2400.0     4800.0   1.0        0.0   0.0\n",
       "71   99.0  101.0   103.0    105.0     107.0      109.0   0.0        1.0   0.0\n",
       "72  636.0 -695.0  -714.0    314.0    -287.0      134.0   0.0        0.0   1.0\n",
       "73  129.0 -247.0    62.0    263.0    -533.0      954.0   0.0        0.0   1.0\n",
       "74   64.0   59.0    54.0     49.0      44.0       39.0   0.0        1.0   0.0\n",
       "\n",
       "[75 rows x 9 columns]"
      ]
     },
     "execution_count": 24,
     "metadata": {},
     "output_type": "execute_result"
    }
   ],
   "source": [
    "csv"
   ]
  },
  {
   "cell_type": "code",
   "execution_count": 25,
   "metadata": {},
   "outputs": [
    {
     "data": {
      "image/png": "[encoded data removed]",
      "text/plain": [
       "<Figure size 432x288 with 2 Axes>"
      ]
     },
     "metadata": {
      "needs_background": "light"
     },
     "output_type": "display_data"
    }
   ],
   "source": [
    "X_csv = csv[['x','x1','x2','x3','x4','x5']]\n",
    "y_csv = csv[['geom','aritmatik','none']]\n",
    "X_csv = scalar.transform(X_csv)\n",
    "\n",
    "## Predict\n",
    "y_predict_csv = model.predict_proba(X_csv)\n",
    "y_preds_csv = np.argmax(y_predict_csv,axis =1)\n",
    "y_test_arg_csv = np.argmax(y_csv.to_numpy(),axis = 1)\n",
    "\n",
    "# Plot Confusion Matrix\n",
    "\n",
    "class_names=np.array(['Geom','Aritmatik','none'])\n",
    "\n",
    "cm = confusion_matrix(y_test_arg_csv,y_preds_csv)\n",
    "plot_confusion_matrix(cm,class_names)"
   ]
  },
  {
   "cell_type": "code",
   "execution_count": 26,
   "metadata": {},
   "outputs": [
    {
     "name": "stdout",
     "output_type": "stream",
     "text": [
      "classification report train\n",
      "              precision    recall  f1-score   support\n",
      "\n",
      "        Geom       1.00      0.86      0.92        28\n",
      "   Aritmatik       0.87      1.00      0.93        27\n",
      "        none       1.00      1.00      1.00        20\n",
      "\n",
      "    accuracy                           0.95        75\n",
      "   macro avg       0.96      0.95      0.95        75\n",
      "weighted avg       0.95      0.95      0.95        75\n",
      "\n"
     ]
    }
   ],
   "source": [
    "print('classification report train')\n",
    "print(classification_report(y_test_arg_csv, y_preds_csv, target_names=['Geom','Aritmatik','none']))"
   ]
  }
 ],
 "metadata": {
  "kernelspec": {
   "display_name": "Python 3",
   "language": "python",
   "name": "python3"
  },
  "language_info": {
   "codemirror_mode": {
    "name": "ipython",
    "version": 3
   },
   "file_extension": ".py",
   "mimetype": "text/x-python",
   "name": "python",
   "nbconvert_exporter": "python",
   "pygments_lexer": "ipython3",
   "version": "3.6.12"
  }
 },
 "nbformat": 4,
 "nbformat_minor": 4
}
